{
  "nbformat": 4,
  "nbformat_minor": 5,
  "metadata": {
    "colab": {
      "provenance": []
    },
    "language_info": {
      "name": "python"
    },
    "kernelspec": {
      "name": "python3",
      "display_name": "Python 3"
    },
    "widgets": {
      "application/vnd.jupyter.widget-state+json": {
        "46e016851c2944d28fe63b6037b4d5cc": {
          "model_module": "@jupyter-widgets/controls",
          "model_name": "FileUploadModel",
          "model_module_version": "1.5.0",
          "state": {
            "_counter": 1,
            "_dom_classes": [],
            "_model_module": "@jupyter-widgets/controls",
            "_model_module_version": "1.5.0",
            "_model_name": "FileUploadModel",
            "_view_count": null,
            "_view_module": "@jupyter-widgets/controls",
            "_view_module_version": "1.5.0",
            "_view_name": "FileUploadView",
            "accept": ".xlsx",
            "button_style": "",
            "data": [
              null
            ],
            "description": "Upload",
            "description_tooltip": null,
            "disabled": false,
            "error": "",
            "icon": "upload",
            "layout": "IPY_MODEL_811e753aea234cb894b1d090a7607107",
            "metadata": [
              {
                "name": "PLANO DE AÇÃO - BPA.xlsx",
                "type": "application/vnd.openxmlformats-officedocument.spreadsheetml.sheet",
                "size": 147953,
                "lastModified": 1760036061106
              }
            ],
            "multiple": false,
            "style": "IPY_MODEL_a02a2cba5ec445a3a34211c15e2e7713"
          }
        },
        "811e753aea234cb894b1d090a7607107": {
          "model_module": "@jupyter-widgets/base",
          "model_name": "LayoutModel",
          "model_module_version": "1.2.0",
          "state": {
            "_model_module": "@jupyter-widgets/base",
            "_model_module_version": "1.2.0",
            "_model_name": "LayoutModel",
            "_view_count": null,
            "_view_module": "@jupyter-widgets/base",
            "_view_module_version": "1.2.0",
            "_view_name": "LayoutView",
            "align_content": null,
            "align_items": null,
            "align_self": null,
            "border": null,
            "bottom": null,
            "display": null,
            "flex": null,
            "flex_flow": null,
            "grid_area": null,
            "grid_auto_columns": null,
            "grid_auto_flow": null,
            "grid_auto_rows": null,
            "grid_column": null,
            "grid_gap": null,
            "grid_row": null,
            "grid_template_areas": null,
            "grid_template_columns": null,
            "grid_template_rows": null,
            "height": null,
            "justify_content": null,
            "justify_items": null,
            "left": null,
            "margin": null,
            "max_height": null,
            "max_width": null,
            "min_height": null,
            "min_width": null,
            "object_fit": null,
            "object_position": null,
            "order": null,
            "overflow": null,
            "overflow_x": null,
            "overflow_y": null,
            "padding": null,
            "right": null,
            "top": null,
            "visibility": null,
            "width": null
          }
        },
        "a02a2cba5ec445a3a34211c15e2e7713": {
          "model_module": "@jupyter-widgets/controls",
          "model_name": "ButtonStyleModel",
          "model_module_version": "1.5.0",
          "state": {
            "_model_module": "@jupyter-widgets/controls",
            "_model_module_version": "1.5.0",
            "_model_name": "ButtonStyleModel",
            "_view_count": null,
            "_view_module": "@jupyter-widgets/base",
            "_view_module_version": "1.2.0",
            "_view_name": "StyleView",
            "button_color": null,
            "font_weight": ""
          }
        },
        "5a6b383abc904b9cb16f35e6f2cba00f": {
          "model_module": "@jupyter-widgets/controls",
          "model_name": "ButtonModel",
          "model_module_version": "1.5.0",
          "state": {
            "_dom_classes": [],
            "_model_module": "@jupyter-widgets/controls",
            "_model_module_version": "1.5.0",
            "_model_name": "ButtonModel",
            "_view_count": null,
            "_view_module": "@jupyter-widgets/controls",
            "_view_module_version": "1.5.0",
            "_view_name": "ButtonView",
            "button_style": "success",
            "description": "Converter e Baixar",
            "disabled": false,
            "icon": "",
            "layout": "IPY_MODEL_890962f93dc043acb81c4dbbf50e055a",
            "style": "IPY_MODEL_cfcad5a589f4422ebc13edc346372107",
            "tooltip": ""
          }
        },
        "890962f93dc043acb81c4dbbf50e055a": {
          "model_module": "@jupyter-widgets/base",
          "model_name": "LayoutModel",
          "model_module_version": "1.2.0",
          "state": {
            "_model_module": "@jupyter-widgets/base",
            "_model_module_version": "1.2.0",
            "_model_name": "LayoutModel",
            "_view_count": null,
            "_view_module": "@jupyter-widgets/base",
            "_view_module_version": "1.2.0",
            "_view_name": "LayoutView",
            "align_content": null,
            "align_items": null,
            "align_self": null,
            "border": null,
            "bottom": null,
            "display": null,
            "flex": null,
            "flex_flow": null,
            "grid_area": null,
            "grid_auto_columns": null,
            "grid_auto_flow": null,
            "grid_auto_rows": null,
            "grid_column": null,
            "grid_gap": null,
            "grid_row": null,
            "grid_template_areas": null,
            "grid_template_columns": null,
            "grid_template_rows": null,
            "height": null,
            "justify_content": null,
            "justify_items": null,
            "left": null,
            "margin": null,
            "max_height": null,
            "max_width": null,
            "min_height": null,
            "min_width": null,
            "object_fit": null,
            "object_position": null,
            "order": null,
            "overflow": null,
            "overflow_x": null,
            "overflow_y": null,
            "padding": null,
            "right": null,
            "top": null,
            "visibility": null,
            "width": null
          }
        },
        "cfcad5a589f4422ebc13edc346372107": {
          "model_module": "@jupyter-widgets/controls",
          "model_name": "ButtonStyleModel",
          "model_module_version": "1.5.0",
          "state": {
            "_model_module": "@jupyter-widgets/controls",
            "_model_module_version": "1.5.0",
            "_model_name": "ButtonStyleModel",
            "_view_count": null,
            "_view_module": "@jupyter-widgets/base",
            "_view_module_version": "1.2.0",
            "_view_name": "StyleView",
            "button_color": null,
            "font_weight": ""
          }
        }
      }
    }
  },
  "cells": [
    {
      "cell_type": "code",
      "source": [
        "# @title\n",
        "import pandas as pd\n",
        "import io\n",
        "import requests\n",
        "from google.colab import files\n",
        "import ipywidgets as widgets\n",
        "from IPython.display import display, clear_output\n",
        "\n",
        "# URLs dos arquivos no GitHub (raw)\n",
        "url_mapeamento = \"https://raw.githubusercontent.com/carmea2025-dev/conversor-colab/main/Mapeamento_Colunas.xlsx\"\n",
        "url_modelo = \"https://raw.githubusercontent.com/carmea2025-dev/conversor-colab/main/PLANO%20DE%20AÇÃO%20-%20BPA%20-%20FINAL.xlsx\"\n",
        "\n",
        "def baixar_arquivo(url, nome_arquivo):\n",
        "    r = requests.get(url)\n",
        "    if r.status_code == 200:\n",
        "        with open(nome_arquivo, \"wb\") as f:\n",
        "            f.write(r.content)\n",
        "        print(f\"✅ {nome_arquivo} baixado com sucesso.\")\n",
        "    else:\n",
        "        print(f\"❌ Erro ao baixar {nome_arquivo}. Verifique o link do GitHub.\")\n",
        "\n",
        "baixar_arquivo(url_mapeamento, \"Mapeamento_Colunas.xlsx\")\n",
        "baixar_arquivo(url_modelo, \"PLANO_DE_ACAO_BPA_FINAL.xlsx\")\n",
        "\n",
        "def converter_arquivo(uploaded_file):\n",
        "    try:\n",
        "        # Carrega arquivos modelo e mapeamento\n",
        "        mapeamento = pd.read_excel(\"Mapeamento_Colunas.xlsx\", engine='openpyxl')\n",
        "        modelo = pd.read_excel(\"PLANO_DE_ACAO_BPA_FINAL.xlsx\", engine='openpyxl')\n",
        "\n",
        "        nome_arquivo = list(uploaded_file.keys())[0]\n",
        "        conteudo = uploaded_file[nome_arquivo]['content']\n",
        "        df_bpa = pd.read_excel(io.BytesIO(conteudo), engine='openpyxl')\n",
        "\n",
        "        # Renomeia colunas do BPA\n",
        "        col_map = dict(zip(mapeamento['Coluna_Origem'], mapeamento['Coluna_Destino']))\n",
        "        df_convertido = df_bpa.rename(columns=col_map)\n",
        "\n",
        "        # Cria DataFrame final baseado no modelo\n",
        "        df_final = modelo.copy()\n",
        "\n",
        "        # Preenche as colunas do BPA convertidas\n",
        "        for col in df_final.columns:\n",
        "            if col in df_convertido.columns:\n",
        "                df_final[col] = df_convertido[col]\n",
        "\n",
        "        nome_saida = \"BPA_Convertido.xlsx\"\n",
        "        df_final.to_excel(nome_saida, index=False, engine='openpyxl')\n",
        "        print(\"✅ Conversão concluída com sucesso!\")\n",
        "        files.download(nome_saida)\n",
        "    except Exception as e:\n",
        "        print(f\"❌ Erro durante a conversão: {e}\")\n",
        "\n",
        "def interface():\n",
        "    upload_button = widgets.FileUpload(accept=\".xlsx\", multiple=False)\n",
        "    convert_button = widgets.Button(description=\"Converter e Baixar\", button_style=\"success\")\n",
        "\n",
        "    def ao_clicar(_):\n",
        "        clear_output(wait=True)\n",
        "        display(upload_button, convert_button)\n",
        "        if upload_button.value:\n",
        "            converter_arquivo(upload_button.value)\n",
        "        else:\n",
        "            print(\"⚠️ Envie um arquivo BPA primeiro.\")\n",
        "\n",
        "    convert_button.on_click(ao_clicar)\n",
        "    display(upload_button, convert_button)\n",
        "\n",
        "interface()\n"
      ],
      "metadata": {
        "colab": {
          "base_uri": "https://localhost:8080/",
          "height": 98,
          "referenced_widgets": [
            "46e016851c2944d28fe63b6037b4d5cc",
            "811e753aea234cb894b1d090a7607107",
            "a02a2cba5ec445a3a34211c15e2e7713",
            "5a6b383abc904b9cb16f35e6f2cba00f",
            "890962f93dc043acb81c4dbbf50e055a",
            "cfcad5a589f4422ebc13edc346372107"
          ]
        },
        "cellView": "form",
        "id": "1bXcH_EQFRYG",
        "outputId": "c68b4520-cd7f-42fa-8e63-4d080a417ae5"
      },
      "id": "1bXcH_EQFRYG",
      "execution_count": 3,
      "outputs": [
        {
          "output_type": "display_data",
          "data": {
            "text/plain": [
              "FileUpload(value={'PLANO DE AÇÃO - BPA.xlsx': {'metadata': {'name': 'PLANO DE AÇÃO - BPA.xlsx', 'type': 'appli…"
            ],
            "application/vnd.jupyter.widget-view+json": {
              "version_major": 2,
              "version_minor": 0,
              "model_id": "46e016851c2944d28fe63b6037b4d5cc"
            }
          },
          "metadata": {}
        },
        {
          "output_type": "display_data",
          "data": {
            "text/plain": [
              "Button(button_style='success', description='Converter e Baixar', style=ButtonStyle())"
            ],
            "application/vnd.jupyter.widget-view+json": {
              "version_major": 2,
              "version_minor": 0,
              "model_id": "5a6b383abc904b9cb16f35e6f2cba00f"
            }
          },
          "metadata": {}
        },
        {
          "output_type": "stream",
          "name": "stdout",
          "text": [
            "✅ Conversão concluída com sucesso!\n"
          ]
        },
        {
          "output_type": "display_data",
          "data": {
            "text/plain": [
              "<IPython.core.display.Javascript object>"
            ],
            "application/javascript": [
              "\n",
              "    async function download(id, filename, size) {\n",
              "      if (!google.colab.kernel.accessAllowed) {\n",
              "        return;\n",
              "      }\n",
              "      const div = document.createElement('div');\n",
              "      const label = document.createElement('label');\n",
              "      label.textContent = `Downloading \"${filename}\": `;\n",
              "      div.appendChild(label);\n",
              "      const progress = document.createElement('progress');\n",
              "      progress.max = size;\n",
              "      div.appendChild(progress);\n",
              "      document.body.appendChild(div);\n",
              "\n",
              "      const buffers = [];\n",
              "      let downloaded = 0;\n",
              "\n",
              "      const channel = await google.colab.kernel.comms.open(id);\n",
              "      // Send a message to notify the kernel that we're ready.\n",
              "      channel.send({})\n",
              "\n",
              "      for await (const message of channel.messages) {\n",
              "        // Send a message to notify the kernel that we're ready.\n",
              "        channel.send({})\n",
              "        if (message.buffers) {\n",
              "          for (const buffer of message.buffers) {\n",
              "            buffers.push(buffer);\n",
              "            downloaded += buffer.byteLength;\n",
              "            progress.value = downloaded;\n",
              "          }\n",
              "        }\n",
              "      }\n",
              "      const blob = new Blob(buffers, {type: 'application/binary'});\n",
              "      const a = document.createElement('a');\n",
              "      a.href = window.URL.createObjectURL(blob);\n",
              "      a.download = filename;\n",
              "      div.appendChild(a);\n",
              "      a.click();\n",
              "      div.remove();\n",
              "    }\n",
              "  "
            ]
          },
          "metadata": {}
        },
        {
          "output_type": "display_data",
          "data": {
            "text/plain": [
              "<IPython.core.display.Javascript object>"
            ],
            "application/javascript": [
              "download(\"download_bbc57c48-52eb-458b-a930-109c785eb353\", \"BPA_Convertido.xlsx\", 22678)"
            ]
          },
          "metadata": {}
        }
      ]
    }
  ]
}