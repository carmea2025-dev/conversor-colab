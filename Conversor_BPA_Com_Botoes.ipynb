{
  "nbformat": 4,
  "nbformat_minor": 5,
  "metadata": {
    "colab": {
      "provenance": [],
      "include_colab_link": true
    },
    "language_info": {
      "name": "python"
    },
    "kernelspec": {
      "name": "python3",
      "display_name": "Python 3"
    },
    "widgets": {
      "application/vnd.jupyter.widget-state+json": {
        "2a7f7b789f124058ad58079a462ecb9b": {
          "model_module": "@jupyter-widgets/controls",
          "model_name": "FileUploadModel",
          "model_module_version": "1.5.0",
          "state": {
            "_counter": 0,
            "_dom_classes": [],
            "_model_module": "@jupyter-widgets/controls",
            "_model_module_version": "1.5.0",
            "_model_name": "FileUploadModel",
            "_view_count": null,
            "_view_module": "@jupyter-widgets/controls",
            "_view_module_version": "1.5.0",
            "_view_name": "FileUploadView",
            "accept": ".xls,.xlsx",
            "button_style": "",
            "data": [],
            "description": "Upload",
            "description_tooltip": null,
            "disabled": false,
            "error": "",
            "icon": "upload",
            "layout": "IPY_MODEL_7ac9ceab888b46a1aac590b7b7651b1b",
            "metadata": [],
            "multiple": false,
            "style": "IPY_MODEL_acafdfd9e84442c388ab7a15af0ec97e"
          }
        },
        "7ac9ceab888b46a1aac590b7b7651b1b": {
          "model_module": "@jupyter-widgets/base",
          "model_name": "LayoutModel",
          "model_module_version": "1.2.0",
          "state": {
            "_model_module": "@jupyter-widgets/base",
            "_model_module_version": "1.2.0",
            "_model_name": "LayoutModel",
            "_view_count": null,
            "_view_module": "@jupyter-widgets/base",
            "_view_module_version": "1.2.0",
            "_view_name": "LayoutView",
            "align_content": null,
            "align_items": null,
            "align_self": null,
            "border": null,
            "bottom": null,
            "display": null,
            "flex": null,
            "flex_flow": null,
            "grid_area": null,
            "grid_auto_columns": null,
            "grid_auto_flow": null,
            "grid_auto_rows": null,
            "grid_column": null,
            "grid_gap": null,
            "grid_row": null,
            "grid_template_areas": null,
            "grid_template_columns": null,
            "grid_template_rows": null,
            "height": null,
            "justify_content": null,
            "justify_items": null,
            "left": null,
            "margin": null,
            "max_height": null,
            "max_width": null,
            "min_height": null,
            "min_width": null,
            "object_fit": null,
            "object_position": null,
            "order": null,
            "overflow": null,
            "overflow_x": null,
            "overflow_y": null,
            "padding": null,
            "right": null,
            "top": null,
            "visibility": null,
            "width": null
          }
        },
        "acafdfd9e84442c388ab7a15af0ec97e": {
          "model_module": "@jupyter-widgets/controls",
          "model_name": "ButtonStyleModel",
          "model_module_version": "1.5.0",
          "state": {
            "_model_module": "@jupyter-widgets/controls",
            "_model_module_version": "1.5.0",
            "_model_name": "ButtonStyleModel",
            "_view_count": null,
            "_view_module": "@jupyter-widgets/base",
            "_view_module_version": "1.2.0",
            "_view_name": "StyleView",
            "button_color": null,
            "font_weight": ""
          }
        },
        "5e969766fc42455a9a2b391fcb9d43df": {
          "model_module": "@jupyter-widgets/controls",
          "model_name": "ButtonModel",
          "model_module_version": "1.5.0",
          "state": {
            "_dom_classes": [],
            "_model_module": "@jupyter-widgets/controls",
            "_model_module_version": "1.5.0",
            "_model_name": "ButtonModel",
            "_view_count": null,
            "_view_module": "@jupyter-widgets/controls",
            "_view_module_version": "1.5.0",
            "_view_name": "ButtonView",
            "button_style": "success",
            "description": "Converter e Baixar",
            "disabled": false,
            "icon": "",
            "layout": "IPY_MODEL_8927c90f4c7e41c4afcf0ee59f4430e8",
            "style": "IPY_MODEL_b323dd8174d84d75be21dfaf7cc0ca97",
            "tooltip": ""
          }
        },
        "8927c90f4c7e41c4afcf0ee59f4430e8": {
          "model_module": "@jupyter-widgets/base",
          "model_name": "LayoutModel",
          "model_module_version": "1.2.0",
          "state": {
            "_model_module": "@jupyter-widgets/base",
            "_model_module_version": "1.2.0",
            "_model_name": "LayoutModel",
            "_view_count": null,
            "_view_module": "@jupyter-widgets/base",
            "_view_module_version": "1.2.0",
            "_view_name": "LayoutView",
            "align_content": null,
            "align_items": null,
            "align_self": null,
            "border": null,
            "bottom": null,
            "display": null,
            "flex": null,
            "flex_flow": null,
            "grid_area": null,
            "grid_auto_columns": null,
            "grid_auto_flow": null,
            "grid_auto_rows": null,
            "grid_column": null,
            "grid_gap": null,
            "grid_row": null,
            "grid_template_areas": null,
            "grid_template_columns": null,
            "grid_template_rows": null,
            "height": null,
            "justify_content": null,
            "justify_items": null,
            "left": null,
            "margin": null,
            "max_height": null,
            "max_width": null,
            "min_height": null,
            "min_width": null,
            "object_fit": null,
            "object_position": null,
            "order": null,
            "overflow": null,
            "overflow_x": null,
            "overflow_y": null,
            "padding": null,
            "right": null,
            "top": null,
            "visibility": null,
            "width": null
          }
        },
        "b323dd8174d84d75be21dfaf7cc0ca97": {
          "model_module": "@jupyter-widgets/controls",
          "model_name": "ButtonStyleModel",
          "model_module_version": "1.5.0",
          "state": {
            "_model_module": "@jupyter-widgets/controls",
            "_model_module_version": "1.5.0",
            "_model_name": "ButtonStyleModel",
            "_view_count": null,
            "_view_module": "@jupyter-widgets/base",
            "_view_module_version": "1.2.0",
            "_view_name": "StyleView",
            "button_color": null,
            "font_weight": ""
          }
        }
      }
    }
  },
  "cells": [
    {
      "cell_type": "markdown",
      "metadata": {
        "id": "view-in-github",
        "colab_type": "text"
      },
      "source": [
        "<a href=\"https://colab.research.google.com/github/carmea2025-dev/conversor-colab/blob/main/Conversor_BPA_Com_Botoes.ipynb\" target=\"_parent\"><img src=\"https://colab.research.google.com/assets/colab-badge.svg\" alt=\"Open In Colab\"/></a>"
      ]
    },
    {
      "cell_type": "code",
      "source": [
        "# @title\n",
        "import pandas as pd\n",
        "import io\n",
        "import requests\n",
        "from google.colab import files\n",
        "import ipywidgets as widgets\n",
        "from IPython.display import display, clear_output\n",
        "from openpyxl import load_workbook\n",
        "\n",
        "# URLs dos arquivos no GitHub (raw)\n",
        "url_mapeamento = \"https://raw.githubusercontent.com/carmea2025-dev/conversor-colab/main/Mapeamento_Colunas.xlsx\"\n",
        "url_modelo = \"https://raw.githubusercontent.com/carmea2025-dev/conversor-colab/main/PLANO%20DE%20AÇÃO%20-%20BPA%20-%20FINAL.xlsx\"\n",
        "\n",
        "def baixar_arquivo(url, nome_arquivo):\n",
        "    r = requests.get(url)\n",
        "    if r.status_code == 200:\n",
        "        with open(nome_arquivo, \"wb\") as f:\n",
        "            f.write(r.content)\n",
        "        print(f\"✅ {nome_arquivo} baixado com sucesso.\")\n",
        "    else:\n",
        "        print(f\"❌ Erro ao baixar {nome_arquivo}. Verifique o link do GitHub.\")\n",
        "\n",
        "baixar_arquivo(url_mapeamento, \"Mapeamento_Colunas.xlsx\")\n",
        "baixar_arquivo(url_modelo, \"PLANO_DE_ACAO_BPA_FINAL.xlsx\")\n",
        "\n",
        "def converter_arquivo(uploaded_file):\n",
        "    try:\n",
        "        # Carrega mapeamento e modelo\n",
        "        mapeamento = pd.read_excel(\"Mapeamento_Colunas.xlsx\", engine='openpyxl')\n",
        "        modelo_df = pd.read_excel(\"PLANO_DE_ACAO_BPA_FINAL.xlsx\", engine='openpyxl')\n",
        "\n",
        "        nome_arquivo = list(uploaded_file.keys())[0]\n",
        "        conteudo = uploaded_file[nome_arquivo]['content']\n",
        "\n",
        "        # Detecta extensão e lê arquivo BPA\n",
        "        if nome_arquivo.endswith(\".xls\"):\n",
        "            df_bpa = pd.read_excel(io.BytesIO(conteudo), engine='xlrd')\n",
        "        elif nome_arquivo.endswith(\".xlsx\"):\n",
        "            df_bpa = pd.read_excel(io.BytesIO(conteudo), engine='openpyxl')\n",
        "        else:\n",
        "            print(\"⚠️ Formato de arquivo não suportado. Envie .xls ou .xlsx.\")\n",
        "            return\n",
        "\n",
        "        # Renomeia colunas com base no mapeamento\n",
        "        col_map = dict(zip(mapeamento['Coluna_Origem'], mapeamento['Coluna_Destino']))\n",
        "        df_convertido = df_bpa.rename(columns=col_map)\n",
        "\n",
        "        # Carrega modelo com formatação (openpyxl)\n",
        "        wb = load_workbook(\"PLANO_DE_ACAO_BPA_FINAL.xlsx\")\n",
        "        ws = wb.active\n",
        "\n",
        "        # Cria um dicionário do modelo para saber quais colunas preencher\n",
        "        colunas_modelo = list(modelo_df.columns)\n",
        "\n",
        "        # Atualiza as células do modelo mantendo a formatação\n",
        "        for col_idx, col_name in enumerate(colunas_modelo, start=1):\n",
        "            if col_name in df_convertido.columns:\n",
        "                valores = df_convertido[col_name].tolist()\n",
        "                for row_idx, valor in enumerate(valores, start=2):  # começa na linha 2\n",
        "                    ws.cell(row=row_idx, column=col_idx, value=valor)\n",
        "\n",
        "        # Salva o arquivo final mantendo estilos originais\n",
        "        nome_saida = \"PLANO DE AÇÃO - BPA - CONVERTIDO.xlsx\"\n",
        "        wb.save(nome_saida)\n",
        "        print(\"✅ Conversão concluída com sucesso! Formatação preservada.\")\n",
        "        files.download(nome_saida)\n",
        "\n",
        "    except Exception as e:\n",
        "        print(f\"❌ Erro durante a conversão: {e}\")\n",
        "\n",
        "def interface():\n",
        "    upload_button = widgets.FileUpload(accept=\".xls,.xlsx\", multiple=False)\n",
        "    convert_button = widgets.Button(description=\"Converter e Baixar\", button_style=\"success\")\n",
        "\n",
        "    def ao_clicar(_):\n",
        "        clear_output(wait=True)\n",
        "        display(upload_button, convert_button)\n",
        "        if upload_button.value:\n",
        "            converter_arquivo(upload_button.value)\n",
        "        else:\n",
        "            print(\"⚠️ Envie um arquivo BPA primeiro.\")\n",
        "\n",
        "    convert_button.on_click(ao_clicar)\n",
        "    display(upload_button, convert_button)\n",
        "\n",
        "# Exibe a interface\n",
        "interface()\n"
      ],
      "metadata": {
        "cellView": "form",
        "colab": {
          "base_uri": "https://localhost:8080/",
          "height": 116,
          "referenced_widgets": [
            "2a7f7b789f124058ad58079a462ecb9b",
            "7ac9ceab888b46a1aac590b7b7651b1b",
            "acafdfd9e84442c388ab7a15af0ec97e",
            "5e969766fc42455a9a2b391fcb9d43df",
            "8927c90f4c7e41c4afcf0ee59f4430e8",
            "b323dd8174d84d75be21dfaf7cc0ca97"
          ]
        },
        "id": "mnVY0ZINEzMj",
        "outputId": "df6ed5bb-7bf7-43cb-df1c-9c4b759cdc95"
      },
      "id": "mnVY0ZINEzMj",
      "execution_count": 24,
      "outputs": [
        {
          "output_type": "stream",
          "name": "stdout",
          "text": [
            "✅ Mapeamento_Colunas.xlsx baixado com sucesso.\n",
            "✅ PLANO_DE_ACAO_BPA_FINAL.xlsx baixado com sucesso.\n"
          ]
        },
        {
          "output_type": "display_data",
          "data": {
            "text/plain": [
              "FileUpload(value={}, accept='.xls,.xlsx', description='Upload')"
            ],
            "application/vnd.jupyter.widget-view+json": {
              "version_major": 2,
              "version_minor": 0,
              "model_id": "2a7f7b789f124058ad58079a462ecb9b"
            }
          },
          "metadata": {}
        },
        {
          "output_type": "display_data",
          "data": {
            "text/plain": [
              "Button(button_style='success', description='Converter e Baixar', style=ButtonStyle())"
            ],
            "application/vnd.jupyter.widget-view+json": {
              "version_major": 2,
              "version_minor": 0,
              "model_id": "5e969766fc42455a9a2b391fcb9d43df"
            }
          },
          "metadata": {}
        }
      ]
    }
  ]
}