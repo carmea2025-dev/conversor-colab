{
  "nbformat": 4,
  "nbformat_minor": 5,
  "metadata": {},
  "cells": [
    {
      "id": "bcbbf7a8",
      "cell_type": "code",
      "metadata": {},
      "execution_count": null,
      "source": "\n# Conversor BPA Colab - carmea2025/conversor-colab\n\nimport pandas as pd\nimport io\nimport requests\nfrom google.colab import files\nimport ipywidgets as widgets\nfrom IPython.display import display, clear_output\n\n# URLs dos arquivos no GitHub\nurl_mapeamento = \"https://raw.githubusercontent.com/carmea2025/conversor-colab/main/Mapeamento_Colunas.xlsx\"\nurl_modelo = \"https://raw.githubusercontent.com/carmea2025/conversor-colab/main/PLANO%20DE%20A%C3%87%C3%83O%20-%20BPA%20-%20FINAL.xlsx\"\n\ndef baixar_arquivo(url, nome_arquivo):\n    r = requests.get(url)\n    if r.status_code == 200:\n        with open(nome_arquivo, \"wb\") as f:\n            f.write(r.content)\n        print(f\"✅ {nome_arquivo} baixado com sucesso.\")\n    else:\n        print(f\"❌ Erro ao baixar {nome_arquivo}. Verifique o link do GitHub.\")\n\n# Baixa os arquivos automaticamente do GitHub\nbaixar_arquivo(url_mapeamento, \"Mapeamento_Colunas.xlsx\")\nbaixar_arquivo(url_modelo, \"PLANO_DE_ACAO_BPA_FINAL.xlsx\")\n\ndef converter_arquivo(uploaded_file):\n    try:\n        mapeamento = pd.read_excel(\"Mapeamento_Colunas.xlsx\")\n        modelo = pd.read_excel(\"PLANO_DE_ACAO_BPA_FINAL.xlsx\")\n\n        nome_arquivo = list(uploaded_file.keys())[0]\n        conteudo = uploaded_file[nome_arquivo]\n        df_bpa = pd.read_excel(io.BytesIO(conteudo))\n\n        col_map = dict(zip(mapeamento['Coluna BPA'], mapeamento['Coluna Final']))\n        df_convertido = df_bpa.rename(columns=col_map)\n\n        colunas_finais = [col for col in modelo.columns if col in df_convertido.columns]\n        df_final = df_convertido[colunas_finais]\n\n        nome_saida = \"BPA_Convertido.xlsx\"\n        df_final.to_excel(nome_saida, index=False)\n        print(\"✅ Conversão concluída com sucesso!\")\n        files.download(nome_saida)\n    except Exception as e:\n        print(f\"❌ Erro durante a conversão: {e}\")\n\ndef interface():\n    upload_button = widgets.FileUpload(accept=\".xlsx\", multiple=False)\n    convert_button = widgets.Button(description=\"Converter e Baixar\", button_style=\"success\")\n\n    def ao_clicar(_):\n        clear_output(wait=True)\n        display(upload_button, convert_button)\n        if upload_button.value:\n            converter_arquivo(upload_button.value)\n        else:\n            print(\"⚠️ Envie um arquivo BPA primeiro.\")\n\n    convert_button.on_click(ao_clicar)\n    display(upload_button, convert_button)\n\ninterface()\n",
      "outputs": []
    }
  ]
}