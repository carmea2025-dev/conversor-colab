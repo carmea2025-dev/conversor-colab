{
  "nbformat": 4,
  "nbformat_minor": 5,
  "metadata": {
    "colab": {
      "provenance": [],
      "include_colab_link": true
    },
    "language_info": {
      "name": "python"
    },
    "kernelspec": {
      "name": "python3",
      "display_name": "Python 3"
    },
    "widgets": {
      "application/vnd.jupyter.widget-state+json": {
        "6e4a58206e0f47c6be362c009b690ca7": {
          "model_module": "@jupyter-widgets/controls",
          "model_name": "FileUploadModel",
          "model_module_version": "1.5.0",
          "state": {
            "_counter": 1,
            "_dom_classes": [],
            "_model_module": "@jupyter-widgets/controls",
            "_model_module_version": "1.5.0",
            "_model_name": "FileUploadModel",
            "_view_count": null,
            "_view_module": "@jupyter-widgets/controls",
            "_view_module_version": "1.5.0",
            "_view_name": "FileUploadView",
            "accept": ".xls,.xlsx",
            "button_style": "",
            "data": [
              null
            ],
            "description": "Upload",
            "description_tooltip": null,
            "disabled": false,
            "error": "",
            "icon": "upload",
            "layout": "IPY_MODEL_b8979da708db4ddab55c1ee28cb646e5",
            "metadata": [
              {
                "name": "PLANO DE AÇÃO - BPA.xlsx",
                "type": "application/vnd.openxmlformats-officedocument.spreadsheetml.sheet",
                "size": 150044,
                "lastModified": 1760187394504
              }
            ],
            "multiple": false,
            "style": "IPY_MODEL_2226e5a24a434e1f90763b0d06eebf53"
          }
        },
        "b8979da708db4ddab55c1ee28cb646e5": {
          "model_module": "@jupyter-widgets/base",
          "model_name": "LayoutModel",
          "model_module_version": "1.2.0",
          "state": {
            "_model_module": "@jupyter-widgets/base",
            "_model_module_version": "1.2.0",
            "_model_name": "LayoutModel",
            "_view_count": null,
            "_view_module": "@jupyter-widgets/base",
            "_view_module_version": "1.2.0",
            "_view_name": "LayoutView",
            "align_content": null,
            "align_items": null,
            "align_self": null,
            "border": null,
            "bottom": null,
            "display": null,
            "flex": null,
            "flex_flow": null,
            "grid_area": null,
            "grid_auto_columns": null,
            "grid_auto_flow": null,
            "grid_auto_rows": null,
            "grid_column": null,
            "grid_gap": null,
            "grid_row": null,
            "grid_template_areas": null,
            "grid_template_columns": null,
            "grid_template_rows": null,
            "height": null,
            "justify_content": null,
            "justify_items": null,
            "left": null,
            "margin": null,
            "max_height": null,
            "max_width": null,
            "min_height": null,
            "min_width": null,
            "object_fit": null,
            "object_position": null,
            "order": null,
            "overflow": null,
            "overflow_x": null,
            "overflow_y": null,
            "padding": null,
            "right": null,
            "top": null,
            "visibility": null,
            "width": null
          }
        },
        "2226e5a24a434e1f90763b0d06eebf53": {
          "model_module": "@jupyter-widgets/controls",
          "model_name": "ButtonStyleModel",
          "model_module_version": "1.5.0",
          "state": {
            "_model_module": "@jupyter-widgets/controls",
            "_model_module_version": "1.5.0",
            "_model_name": "ButtonStyleModel",
            "_view_count": null,
            "_view_module": "@jupyter-widgets/base",
            "_view_module_version": "1.2.0",
            "_view_name": "StyleView",
            "button_color": null,
            "font_weight": ""
          }
        },
        "bc67819e81024d7f8478ee1ac3bdb758": {
          "model_module": "@jupyter-widgets/controls",
          "model_name": "ButtonModel",
          "model_module_version": "1.5.0",
          "state": {
            "_dom_classes": [],
            "_model_module": "@jupyter-widgets/controls",
            "_model_module_version": "1.5.0",
            "_model_name": "ButtonModel",
            "_view_count": null,
            "_view_module": "@jupyter-widgets/controls",
            "_view_module_version": "1.5.0",
            "_view_name": "ButtonView",
            "button_style": "success",
            "description": "Converter e Baixar",
            "disabled": false,
            "icon": "",
            "layout": "IPY_MODEL_ed4994f9008142348a9757bb093294dc",
            "style": "IPY_MODEL_706d8359bdbc4a1a939bf661891e608a",
            "tooltip": ""
          }
        },
        "ed4994f9008142348a9757bb093294dc": {
          "model_module": "@jupyter-widgets/base",
          "model_name": "LayoutModel",
          "model_module_version": "1.2.0",
          "state": {
            "_model_module": "@jupyter-widgets/base",
            "_model_module_version": "1.2.0",
            "_model_name": "LayoutModel",
            "_view_count": null,
            "_view_module": "@jupyter-widgets/base",
            "_view_module_version": "1.2.0",
            "_view_name": "LayoutView",
            "align_content": null,
            "align_items": null,
            "align_self": null,
            "border": null,
            "bottom": null,
            "display": null,
            "flex": null,
            "flex_flow": null,
            "grid_area": null,
            "grid_auto_columns": null,
            "grid_auto_flow": null,
            "grid_auto_rows": null,
            "grid_column": null,
            "grid_gap": null,
            "grid_row": null,
            "grid_template_areas": null,
            "grid_template_columns": null,
            "grid_template_rows": null,
            "height": null,
            "justify_content": null,
            "justify_items": null,
            "left": null,
            "margin": null,
            "max_height": null,
            "max_width": null,
            "min_height": null,
            "min_width": null,
            "object_fit": null,
            "object_position": null,
            "order": null,
            "overflow": null,
            "overflow_x": null,
            "overflow_y": null,
            "padding": null,
            "right": null,
            "top": null,
            "visibility": null,
            "width": null
          }
        },
        "706d8359bdbc4a1a939bf661891e608a": {
          "model_module": "@jupyter-widgets/controls",
          "model_name": "ButtonStyleModel",
          "model_module_version": "1.5.0",
          "state": {
            "_model_module": "@jupyter-widgets/controls",
            "_model_module_version": "1.5.0",
            "_model_name": "ButtonStyleModel",
            "_view_count": null,
            "_view_module": "@jupyter-widgets/base",
            "_view_module_version": "1.2.0",
            "_view_name": "StyleView",
            "button_color": null,
            "font_weight": ""
          }
        }
      }
    }
  },
  "cells": [
    {
      "cell_type": "markdown",
      "metadata": {
        "id": "view-in-github",
        "colab_type": "text"
      },
      "source": [
        "<a href=\"https://colab.research.google.com/github/carmea2025-dev/conversor-colab/blob/main/Conversor_BPA_Com_Botoes.ipynb\" target=\"_parent\"><img src=\"https://colab.research.google.com/assets/colab-badge.svg\" alt=\"Open In Colab\"/></a>"
      ]
    },
    {
      "cell_type": "code",
      "source": [
        "# @title Projeto BAHIA QUE PRODUZ E ALIMENTA - Plano de Ação { display-mode: \"form\" }\n",
        "\n",
        "from IPython.display import display, HTML, clear_output\n",
        "import pandas as pd\n",
        "import io\n",
        "import requests\n",
        "from google.colab import files\n",
        "import ipywidgets as widgets\n",
        "from openpyxl import load_workbook\n",
        "\n",
        "# ============================================================\n",
        "# TÍTULO VISÍVEL MESMO COM CÓDIGO OCULTO\n",
        "# ============================================================\n",
        "display(HTML(\"\"\"\n",
        "<h2 style=\"text-align:center; color:#2c3e50; font-family:'Trebuchet MS', sans-serif;\">\n",
        "📘 Projeto <b>BAHIA QUE PRODUZ E ALIMENTA</b> - Plano de Ação\n",
        "</h2>\n",
        "<hr style=\"border:1px solid #ccc;\">\n",
        "\"\"\"))\n",
        "\n",
        "# ============================================================\n",
        "# URLs DOS ARQUIVOS NO GITHUB\n",
        "# ============================================================\n",
        "url_mapeamento = \"https://raw.githubusercontent.com/carmea2025-dev/conversor-colab/main/Mapeamento_Colunas.xlsx\"\n",
        "url_modelo = \"https://raw.githubusercontent.com/carmea2025-dev/conversor-colab/main/PLANO%20DE%20AÇÃO%20-%20BPA%20-%20FINAL.xlsx\"\n",
        "\n",
        "# ============================================================\n",
        "# FUNÇÃO PARA BAIXAR ARQUIVOS DO GITHUB\n",
        "# ============================================================\n",
        "def baixar_arquivo(url, nome_arquivo):\n",
        "    r = requests.get(url)\n",
        "    if r.status_code == 200:\n",
        "        with open(nome_arquivo, \"wb\") as f:\n",
        "            f.write(r.content)\n",
        "        print(f\"✅ {nome_arquivo} baixado com sucesso.\")\n",
        "    else:\n",
        "        print(f\"❌ Erro ao baixar {nome_arquivo}. Verifique o link do GitHub.\")\n",
        "\n",
        "baixar_arquivo(url_mapeamento, \"Mapeamento_Colunas.xlsx\")\n",
        "baixar_arquivo(url_modelo, \"PLANO_DE_ACAO_BPA_FINAL.xlsx\")\n",
        "\n",
        "# ============================================================\n",
        "# FUNÇÃO DE CONVERSÃO\n",
        "# ============================================================\n",
        "def converter_arquivo(uploaded_file):\n",
        "    try:\n",
        "        # Lê os arquivos de apoio\n",
        "        mapeamento = pd.read_excel(\"Mapeamento_Colunas.xlsx\", engine='openpyxl')\n",
        "        modelo_df = pd.read_excel(\"PLANO_DE_ACAO_BPA_FINAL.xlsx\", engine='openpyxl')\n",
        "\n",
        "        nome_arquivo = list(uploaded_file.keys())[0]\n",
        "        conteudo = uploaded_file[nome_arquivo]['content']\n",
        "\n",
        "        # Detecta extensão do arquivo enviado\n",
        "        if nome_arquivo.endswith(\".xls\"):\n",
        "            df_bpa = pd.read_excel(io.BytesIO(conteudo), engine='xlrd')\n",
        "        elif nome_arquivo.endswith(\".xlsx\"):\n",
        "            df_bpa = pd.read_excel(io.BytesIO(conteudo), engine='openpyxl')\n",
        "        else:\n",
        "            print(\"⚠️ Formato de arquivo não suportado. Envie .xls ou .xlsx.\")\n",
        "            return\n",
        "\n",
        "        # Cria o dicionário de mapeamento\n",
        "        col_map = dict(zip(mapeamento['Coluna_Origem'], mapeamento['Coluna_Destino']))\n",
        "\n",
        "        # Aplica o mapeamento às colunas do BPA\n",
        "        df_convertido = df_bpa.rename(columns=col_map)\n",
        "\n",
        "        # Carrega o modelo com formatação\n",
        "        wb = load_workbook(\"PLANO_DE_ACAO_BPA_FINAL.xlsx\")\n",
        "        ws = wb.active\n",
        "\n",
        "        # Define as colunas fixas que determinam a estrutura e vínculo das ações\n",
        "        colunas_fixas = [\"Nº\", \"COMPONENTE\", \"SUBCOMPONENTE\", \"Responsabilidade\", \"Ação\"]\n",
        "\n",
        "        # Cria o dataframe final iniciando a partir do modelo (preserva estrutura)\n",
        "        df_final = modelo_df.copy()\n",
        "\n",
        "        # Garante que o DataFrame convertido tenha apenas colunas conhecidas\n",
        "        colunas_modelo = list(modelo_df.columns)\n",
        "        df_convertido = df_convertido[[c for c in df_convertido.columns if c in colunas_modelo]]\n",
        "\n",
        "        # Mescla os dados do modelo (estrutura) com o BPA convertido (dados)\n",
        "        # Mantém correspondência pela coluna \"Ação\", que é o vínculo principal\n",
        "        if \"Ação\" in df_convertido.columns:\n",
        "            df_final = pd.merge(\n",
        "                modelo_df,\n",
        "                df_convertido,\n",
        "                on=\"Ação\",\n",
        "                how=\"left\",\n",
        "                suffixes=(\"\", \"_NOVO\")\n",
        "            )\n",
        "\n",
        "            # Preenche as colunas do modelo com os dados novos onde houver correspondência\n",
        "            for col in colunas_modelo:\n",
        "                col_novo = col + \"_NOVO\"\n",
        "                if col_novo in df_final.columns:\n",
        "                    df_final[col] = df_final[col_novo].combine_first(df_final[col])\n",
        "                    df_final.drop(columns=[col_novo], inplace=True, errors=\"ignore\")\n",
        "\n",
        "        # Regrava o conteúdo no modelo Excel mantendo formatação\n",
        "        for col_idx, col_name in enumerate(colunas_modelo, start=1):\n",
        "            if col_name not in df_final.columns:\n",
        "                continue\n",
        "            valores = df_final[col_name].tolist()\n",
        "            for row_idx, valor in enumerate(valores, start=2):\n",
        "                ws.cell(row=row_idx, column=col_idx, value=valor)\n",
        "\n",
        "        # Salva o arquivo final com a formatação original\n",
        "        nome_saida = \"PLANO DE AÇÃO - BPA - CONVERTIDO.xlsx\"\n",
        "        wb.save(nome_saida)\n",
        "        print(\"✅ Conversão concluída com sucesso! Estrutura e formatação preservadas.\")\n",
        "        files.download(nome_saida)\n",
        "\n",
        "    except Exception as e:\n",
        "        print(f\"❌ Erro durante a conversão: {e}\")\n",
        "\n",
        "# ============================================================\n",
        "# INTERFACE NO COLAB\n",
        "# ============================================================\n",
        "def interface():\n",
        "    upload_button = widgets.FileUpload(accept=\".xls,.xlsx\", multiple=False)\n",
        "    convert_button = widgets.Button(description=\"Converter e Baixar\", button_style=\"success\")\n",
        "\n",
        "    def ao_clicar(_):\n",
        "        clear_output(wait=True)\n",
        "        display(HTML(\"\"\"\n",
        "        <h2 style=\"text-align:center; color:#2c3e50; font-family:'Trebuchet MS', sans-serif;\">\n",
        "        📘 Projeto <b>BAHIA QUE PRODUZ E ALIMENTA</b> - Plano de Ação\n",
        "        </h2>\n",
        "        <hr style=\"border:1px solid #ccc;\">\n",
        "        \"\"\"))\n",
        "        display(upload_button, convert_button)\n",
        "        if upload_button.value:\n",
        "            converter_arquivo(upload_button.value)\n",
        "        else:\n",
        "            print(\"⚠️ Envie um arquivo BPA primeiro.\")\n",
        "\n",
        "    convert_button.on_click(ao_clicar)\n",
        "    display(upload_button, convert_button)\n",
        "\n",
        "# ============================================================\n",
        "# EXECUTA A INTERFACE\n",
        "# ============================================================\n",
        "interface()\n"
      ],
      "metadata": {
        "colab": {
          "base_uri": "https://localhost:8080/",
          "height": 158,
          "referenced_widgets": [
            "6e4a58206e0f47c6be362c009b690ca7",
            "b8979da708db4ddab55c1ee28cb646e5",
            "2226e5a24a434e1f90763b0d06eebf53",
            "bc67819e81024d7f8478ee1ac3bdb758",
            "ed4994f9008142348a9757bb093294dc",
            "706d8359bdbc4a1a939bf661891e608a"
          ]
        },
        "id": "dElql1_hmxaS",
        "outputId": "0ecb8c20-f91e-40cd-a7de-c44249bd9fb0"
      },
      "id": "dElql1_hmxaS",
      "execution_count": 6,
      "outputs": [
        {
          "output_type": "display_data",
          "data": {
            "text/plain": [
              "<IPython.core.display.HTML object>"
            ],
            "text/html": [
              "\n",
              "        <h2 style=\"text-align:center; color:#2c3e50; font-family:'Trebuchet MS', sans-serif;\">\n",
              "        📘 Projeto <b>BAHIA QUE PRODUZ E ALIMENTA</b> - Plano de Ação\n",
              "        </h2>\n",
              "        <hr style=\"border:1px solid #ccc;\">\n",
              "        "
            ]
          },
          "metadata": {}
        },
        {
          "output_type": "display_data",
          "data": {
            "text/plain": [
              "FileUpload(value={'PLANO DE AÇÃO - BPA.xlsx': {'metadata': {'name': 'PLANO DE AÇÃO - BPA.xlsx', 'type': 'appli…"
            ],
            "application/vnd.jupyter.widget-view+json": {
              "version_major": 2,
              "version_minor": 0,
              "model_id": "6e4a58206e0f47c6be362c009b690ca7"
            }
          },
          "metadata": {}
        },
        {
          "output_type": "display_data",
          "data": {
            "text/plain": [
              "Button(button_style='success', description='Converter e Baixar', style=ButtonStyle())"
            ],
            "application/vnd.jupyter.widget-view+json": {
              "version_major": 2,
              "version_minor": 0,
              "model_id": "bc67819e81024d7f8478ee1ac3bdb758"
            }
          },
          "metadata": {}
        },
        {
          "output_type": "stream",
          "name": "stdout",
          "text": [
            "✅ Conversão concluída com sucesso! Estrutura e formatação preservadas.\n"
          ]
        },
        {
          "output_type": "display_data",
          "data": {
            "text/plain": [
              "<IPython.core.display.Javascript object>"
            ],
            "application/javascript": [
              "\n",
              "    async function download(id, filename, size) {\n",
              "      if (!google.colab.kernel.accessAllowed) {\n",
              "        return;\n",
              "      }\n",
              "      const div = document.createElement('div');\n",
              "      const label = document.createElement('label');\n",
              "      label.textContent = `Downloading \"${filename}\": `;\n",
              "      div.appendChild(label);\n",
              "      const progress = document.createElement('progress');\n",
              "      progress.max = size;\n",
              "      div.appendChild(progress);\n",
              "      document.body.appendChild(div);\n",
              "\n",
              "      const buffers = [];\n",
              "      let downloaded = 0;\n",
              "\n",
              "      const channel = await google.colab.kernel.comms.open(id);\n",
              "      // Send a message to notify the kernel that we're ready.\n",
              "      channel.send({})\n",
              "\n",
              "      for await (const message of channel.messages) {\n",
              "        // Send a message to notify the kernel that we're ready.\n",
              "        channel.send({})\n",
              "        if (message.buffers) {\n",
              "          for (const buffer of message.buffers) {\n",
              "            buffers.push(buffer);\n",
              "            downloaded += buffer.byteLength;\n",
              "            progress.value = downloaded;\n",
              "          }\n",
              "        }\n",
              "      }\n",
              "      const blob = new Blob(buffers, {type: 'application/binary'});\n",
              "      const a = document.createElement('a');\n",
              "      a.href = window.URL.createObjectURL(blob);\n",
              "      a.download = filename;\n",
              "      div.appendChild(a);\n",
              "      a.click();\n",
              "      div.remove();\n",
              "    }\n",
              "  "
            ]
          },
          "metadata": {}
        },
        {
          "output_type": "display_data",
          "data": {
            "text/plain": [
              "<IPython.core.display.Javascript object>"
            ],
            "application/javascript": [
              "download(\"download_2235d37f-0da7-43c4-8544-10bde08d1090\", \"PLANO DE A\\u00c7\\u00c3O - BPA - CONVERTIDO.xlsx\", 22730)"
            ]
          },
          "metadata": {}
        }
      ]
    }
  ]
}