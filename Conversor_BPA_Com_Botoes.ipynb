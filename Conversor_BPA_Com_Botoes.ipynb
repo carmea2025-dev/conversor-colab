{
  "nbformat": 4,
  "nbformat_minor": 5,
  "metadata": {
    "colab": {
      "provenance": []
    },
    "language_info": {
      "name": "python"
    },
    "kernelspec": {
      "name": "python3",
      "display_name": "Python 3"
    }
  },
  "cells": [
    {
      "cell_type": "code",
      "source": [
        "# @title\n",
        "import pandas as pd\n",
        "import io\n",
        "import requests\n",
        "from google.colab import files\n",
        "import ipywidgets as widgets\n",
        "from IPython.display import display, clear_output\n",
        "\n",
        "# URLs dos arquivos no GitHub (raw)\n",
        "url_mapeamento = \"https://raw.githubusercontent.com/carmea2025-dev/conversor-colab/main/Mapeamento_Colunas.xlsx\"\n",
        "url_modelo = \"https://raw.githubusercontent.com/carmea2025-dev/conversor-colab/main/PLANO%20DE%20AÇÃO%20-%20BPA%20-%20FINAL.xlsx\"\n",
        "\n",
        "def baixar_arquivo(url, nome_arquivo):\n",
        "    r = requests.get(url)\n",
        "    if r.status_code == 200:\n",
        "        with open(nome_arquivo, \"wb\") as f:\n",
        "            f.write(r.content)\n",
        "        print(f\"✅ {nome_arquivo} baixado com sucesso.\")\n",
        "    else:\n",
        "        print(f\"❌ Erro ao baixar {nome_arquivo}. Verifique o link do GitHub.\")\n",
        "\n",
        "baixar_arquivo(url_mapeamento, \"Mapeamento_Colunas.xlsx\")\n",
        "baixar_arquivo(url_modelo, \"PLANO_DE_ACAO_BPA_FINAL.xlsx\")\n",
        "\n",
        "def converter_arquivo(uploaded_file):\n",
        "    try:\n",
        "        # Carrega arquivos modelo e mapeamento\n",
        "        mapeamento = pd.read_excel(\"Mapeamento_Colunas.xlsx\", engine='openpyxl')\n",
        "        modelo = pd.read_excel(\"PLANO_DE_ACAO_BPA_FINAL.xlsx\", engine='openpyxl')\n",
        "\n",
        "        nome_arquivo = list(uploaded_file.keys())[0]\n",
        "        conteudo = uploaded_file[nome_arquivo]['content']\n",
        "        df_bpa = pd.read_excel(io.BytesIO(conteudo), engine='openpyxl')\n",
        "\n",
        "        # Renomeia colunas do BPA\n",
        "        col_map = dict(zip(mapeamento['Coluna_Origem'], mapeamento['Coluna_Destino']))\n",
        "        df_convertido = df_bpa.rename(columns=col_map)\n",
        "\n",
        "        # Cria DataFrame final baseado no modelo\n",
        "        df_final = modelo.copy()\n",
        "\n",
        "        # Preenche as colunas do BPA convertidas\n",
        "        for col in df_final.columns:\n",
        "            if col in df_convertido.columns:\n",
        "                df_final[col] = df_convertido[col]\n",
        "\n",
        "        nome_saida = \"BPA_Convertido.xlsx\"\n",
        "        df_final.to_excel(nome_saida, index=False, engine='openpyxl')\n",
        "        print(\"✅ Conversão concluída com sucesso!\")\n",
        "        files.download(nome_saida)\n",
        "    except Exception as e:\n",
        "        print(f\"❌ Erro durante a conversão: {e}\")\n",
        "\n",
        "def interface():\n",
        "    upload_button = widgets.FileUpload(accept=\".xlsx\", multiple=False)\n",
        "    convert_button = widgets.Button(description=\"Converter e Baixar\", button_style=\"success\")\n",
        "\n",
        "    def ao_clicar(_):\n",
        "        clear_output(wait=True)\n",
        "        display(upload_button, convert_button)\n",
        "        if upload_button.value:\n",
        "            converter_arquivo(upload_button.value)\n",
        "        else:\n",
        "            print(\"⚠️ Envie um arquivo BPA primeiro.\")\n",
        "\n",
        "    convert_button.on_click(ao_clicar)\n",
        "    display(upload_button, convert_button)\n",
        "\n",
        "interface()\n"
      ],
      "metadata": {
        "id": "1bXcH_EQFRYG"
      },
      "id": "1bXcH_EQFRYG",
      "execution_count": null,
      "outputs": []
    }
  ]
}